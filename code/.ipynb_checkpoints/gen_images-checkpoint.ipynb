{
 "cells": [
  {
   "cell_type": "code",
   "execution_count": 22,
   "id": "pretty-barrier",
   "metadata": {},
   "outputs": [],
   "source": [
    "import pandas as pd\n",
    "from PIL import Image\n",
    "from skimage import util\n",
    "import numpy as np\n",
    "from tqdm import tqdm"
   ]
  },
  {
   "cell_type": "code",
   "execution_count": 23,
   "id": "accepted-lafayette",
   "metadata": {},
   "outputs": [],
   "source": [
    "path = \"../img\""
   ]
  },
  {
   "cell_type": "code",
   "execution_count": 24,
   "id": "unable-synthetic",
   "metadata": {},
   "outputs": [],
   "source": [
    "df = pd.read_csv(path + \"/train.csv\")\n",
    "df[\"path\"] = df[\"image_id\"].map(lambda x: path + \"/train_images/\" + x)"
   ]
  },
  {
   "cell_type": "code",
   "execution_count": null,
   "id": "bulgarian-power",
   "metadata": {},
   "outputs": [
    {
     "name": "stderr",
     "output_type": "stream",
     "text": [
      " 27%|██▋       | 2207/8239 [03:46<09:52, 10.17it/s]"
     ]
    }
   ],
   "source": [
    "tmp_df = df[~(df[\"label\"] == 3) ].reset_index(drop = True)\n",
    "labels, names = [], []\n",
    "\n",
    "for i in tqdm(range(len(tmp_df))):\n",
    "    img = Image.open(tmp_df['path'][i])\n",
    "    img_path = \"../img/images/\" + str(i) + '.jpg'\n",
    "    img = np.asarray(img)\n",
    "    noise_img = util.random_noise(img)\n",
    "    img = Image.fromarray((noise_img*255).astype(np.uint8))\n",
    "    img.save(img_path, quality = 0)\n",
    "    labels.append(tmp_df['label'][i])\n",
    "    names.append(str(i) + '.jpg')"
   ]
  },
  {
   "cell_type": "code",
   "execution_count": null,
   "id": "inappropriate-brunei",
   "metadata": {},
   "outputs": [],
   "source": [
    "df = pd.DataFrame({'label': labels, 'image_id':names})"
   ]
  },
  {
   "cell_type": "code",
   "execution_count": null,
   "id": "pleasant-liberal",
   "metadata": {},
   "outputs": [],
   "source": [
    "df.to_csv('../img/images/extra_image.csv')"
   ]
  },
  {
   "cell_type": "code",
   "execution_count": null,
   "id": "answering-force",
   "metadata": {},
   "outputs": [],
   "source": []
  }
 ],
 "metadata": {
  "kernelspec": {
   "display_name": "Python 3",
   "language": "python",
   "name": "python3"
  },
  "language_info": {
   "codemirror_mode": {
    "name": "ipython",
    "version": 3
   },
   "file_extension": ".py",
   "mimetype": "text/x-python",
   "name": "python",
   "nbconvert_exporter": "python",
   "pygments_lexer": "ipython3",
   "version": "3.8.5"
  }
 },
 "nbformat": 4,
 "nbformat_minor": 5
}
